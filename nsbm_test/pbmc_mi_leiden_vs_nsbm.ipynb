{
 "cells": [
  {
   "cell_type": "code",
   "execution_count": 2,
   "metadata": {},
   "outputs": [
    {
     "name": "stdout",
     "output_type": "stream",
     "text": [
      "Using matplotlib backend: nbAgg\n",
      "Populating the interactive namespace from numpy and matplotlib\n"
     ]
    }
   ],
   "source": [
    "import scanpy as sc\n",
    "import pandas as pd\n",
    "import pickle\n",
    "import time\n",
    "import anndata\n",
    "import sklearn.metrics\n",
    "%matplotlib notebook\n",
    "%pylab"
   ]
  },
  {
   "cell_type": "code",
   "execution_count": 4,
   "metadata": {},
   "outputs": [
    {
     "name": "stderr",
     "output_type": "stream",
     "text": [
      "Trying to set attribute `.obs` of view, making a copy.\n"
     ]
    }
   ],
   "source": [
    "adata = sc.read_10x_mtx('matrix_pbmc',var_names='gene_symbols',cache=True)  \n",
    "sc.settings.set_figure_params(dpi=80)\n",
    "sc.pp.filter_cells(adata, min_genes=200)\n",
    "sc.pp.filter_genes(adata, min_cells=3)\n",
    "mito_genes = adata.var_names.str.startswith('MT-') \n",
    "adata.obs['percent_mito'] = np.sum(adata[:, mito_genes].X, axis=1).A1 / np.sum(adata.X, axis=1).A1 \n",
    "adata.obs['n_counts'] = adata.X.sum(axis=1).A1\n",
    "adata = adata[adata.obs['n_genes'] < 2500, :]\n",
    "adata = adata[adata.obs['percent_mito'] < 0.05, :]\n",
    "sc.pp.normalize_per_cell(adata, counts_per_cell_after=1e4)\n",
    "sc.pp.log1p(adata)\n",
    "adata.raw = adata\n",
    "sc.pp.highly_variable_genes(adata, min_mean=0.0125, max_mean=3, min_disp=0.5)\n",
    "adata = adata[:, adata.var['highly_variable']]\n",
    "sc.pp.regress_out(adata, ['n_counts', 'percent_mito'])\n",
    "sc.pp.scale(adata, max_value=10) #i geni con una varianza più alta di 10 gli viene attribuita varianza uguale a 10\n",
    "sc.tl.pca(adata, svd_solver='arpack')\n",
    "adata.write('mi_pbmc/adata_base.h5ad')"
   ]
  },
  {
   "cell_type": "code",
   "execution_count": 5,
   "metadata": {},
   "outputs": [],
   "source": [
    "adata=sc.read('mi_pbmc/adata_base.h5ad')"
   ]
  },
  {
   "cell_type": "code",
   "execution_count": 6,
   "metadata": {},
   "outputs": [],
   "source": [
    "nei=[5,10,20,50,100]\n",
    "adatone=[]\n",
    "for x in nei:\n",
    "    adata=sc.read('mi_pbmc/adata_base.h5ad')\n",
    "    sc.pp.neighbors(adata, n_neighbors=x, n_pcs=40)\n",
    "    adatone.append(adata)\n",
    "adatone[0].write('mi_pbmc/adata_5.h5ad')\n",
    "adatone[1].write('mi_pbmc/adata_10.h5ad')\n",
    "adatone[2].write('mi_pbmc/adata_20.h5ad')\n",
    "adatone[3].write('mi_pbmc/adata_50.h5ad')\n",
    "adatone[4].write('mi_pbmc/adata_100.h5ad')"
   ]
  },
  {
   "cell_type": "code",
   "execution_count": 7,
   "metadata": {},
   "outputs": [],
   "source": [
    "adata5=sc.read('mi_pbmc/adata_5.h5ad')\n",
    "adata10=sc.read('mi_pbmc/adata_10.h5ad')\n",
    "adata20=sc.read('mi_pbmc/adata_20.h5ad')\n",
    "adata50=sc.read('mi_pbmc/adata_50.h5ad')\n",
    "adata100=sc.read('mi_pbmc/adata_100.h5ad')"
   ]
  },
  {
   "cell_type": "code",
   "execution_count": 8,
   "metadata": {},
   "outputs": [],
   "source": [
    "sc.tl.umap(adata5)\n",
    "sc.tl.umap(adata10) \n",
    "sc.tl.umap(adata20) \n",
    "sc.tl.umap(adata50)\n",
    "sc.tl.umap(adata100) "
   ]
  },
  {
   "cell_type": "markdown",
   "metadata": {},
   "source": [
    "# 1) leiden in range\n",
    "### 1.1) leiden unweighted"
   ]
  },
  {
   "cell_type": "code",
   "execution_count": 9,
   "metadata": {},
   "outputs": [],
   "source": [
    "resolutions = np.arange(0, 1, 0.005)"
   ]
  },
  {
   "cell_type": "code",
   "execution_count": 10,
   "metadata": {},
   "outputs": [],
   "source": [
    "leiden_clusters = pd.DataFrame(index=adata5.obs_names, columns=resolutions)\n",
    "for r in resolutions:\n",
    "    sc.tl.leiden(adata5, resolution=r, use_weights=False)\n",
    "    leiden_clusters.loc[:, r] = adata5.obs.leiden\n",
    "leiden_clusters.to_csv('mi_pbmc/dropseq_leiden_clusters_5_unweighted.csv')"
   ]
  },
  {
   "cell_type": "code",
   "execution_count": 11,
   "metadata": {},
   "outputs": [],
   "source": [
    "leiden_clusters = pd.DataFrame(index=adata10.obs_names, columns=resolutions)\n",
    "for r in resolutions:\n",
    "    sc.tl.leiden(adata10, resolution=r, use_weights=False)\n",
    "    leiden_clusters.loc[:, r] = adata10.obs.leiden\n",
    "leiden_clusters.to_csv('mi_pbmc/dropseq_leiden_clusters_10_unweighted.csv')"
   ]
  },
  {
   "cell_type": "code",
   "execution_count": 12,
   "metadata": {},
   "outputs": [],
   "source": [
    "leiden_clusters = pd.DataFrame(index=adata20.obs_names, columns=resolutions)\n",
    "for r in resolutions:\n",
    "    sc.tl.leiden(adata20, resolution=r, use_weights=False)\n",
    "    leiden_clusters.loc[:, r] = adata20.obs.leiden\n",
    "leiden_clusters.to_csv('mi_pbmc/dropseq_leiden_clusters_20_unweighted.csv')"
   ]
  },
  {
   "cell_type": "code",
   "execution_count": 13,
   "metadata": {},
   "outputs": [],
   "source": [
    "leiden_clusters = pd.DataFrame(index=adata50.obs_names, columns=resolutions)\n",
    "for r in resolutions:\n",
    "    sc.tl.leiden(adata50, resolution=r, use_weights=False)\n",
    "    leiden_clusters.loc[:, r] = adata50.obs.leiden\n",
    "leiden_clusters.to_csv('mi_pbmc/dropseq_leiden_clusters_50_unweighted.csv')"
   ]
  },
  {
   "cell_type": "code",
   "execution_count": 14,
   "metadata": {},
   "outputs": [],
   "source": [
    "leiden_clusters = pd.DataFrame(index=adata100.obs_names, columns=resolutions)\n",
    "for r in resolutions:\n",
    "    sc.tl.leiden(adata100, resolution=r, use_weights=False)\n",
    "    leiden_clusters.loc[:, r] = adata100.obs.leiden\n",
    "leiden_clusters.to_csv('mi_pbmc/dropseq_leiden_clusters_100_unweighted.csv')"
   ]
  },
  {
   "cell_type": "code",
   "execution_count": 15,
   "metadata": {},
   "outputs": [],
   "source": [
    "unw_leiden_clusters5=pd.read_csv('mi_pbmc/dropseq_leiden_clusters_5_unweighted.csv')\n",
    "unw_leiden_clusters10=pd.read_csv('mi_pbmc/dropseq_leiden_clusters_10_unweighted.csv')\n",
    "unw_leiden_clusters20=pd.read_csv('mi_pbmc/dropseq_leiden_clusters_20_unweighted.csv')\n",
    "unw_leiden_clusters50=pd.read_csv('mi_pbmc/dropseq_leiden_clusters_50_unweighted.csv')\n",
    "unw_leiden_clusters100=pd.read_csv('mi_pbmc/dropseq_leiden_clusters_100_unweighted.csv')"
   ]
  },
  {
   "cell_type": "markdown",
   "metadata": {},
   "source": [
    "### 1.2) leiden weighted"
   ]
  },
  {
   "cell_type": "code",
   "execution_count": 16,
   "metadata": {},
   "outputs": [],
   "source": [
    "adata5=sc.read('mi_pbmc/adata_5.h5ad')\n",
    "adata10=sc.read('mi_pbmc/adata_10.h5ad')\n",
    "adata20=sc.read('mi_pbmc/adata_20.h5ad')\n",
    "adata50=sc.read('mi_pbmc/adata_50.h5ad')\n",
    "adata100=sc.read('mi_pbmc/adata_100.h5ad')"
   ]
  },
  {
   "cell_type": "code",
   "execution_count": 17,
   "metadata": {},
   "outputs": [],
   "source": [
    "leiden_clusters = pd.DataFrame(index=adata5.obs_names, columns=resolutions)\n",
    "for r in resolutions:\n",
    "    sc.tl.leiden(adata5, resolution=r, use_weights=True)\n",
    "    leiden_clusters.loc[:, r] = adata5.obs.leiden\n",
    "leiden_clusters.to_csv('mi_pbmc/dropseq_leiden_clusters_5_weighted.csv')"
   ]
  },
  {
   "cell_type": "code",
   "execution_count": 18,
   "metadata": {},
   "outputs": [],
   "source": [
    "leiden_clusters = pd.DataFrame(index=adata10.obs_names, columns=resolutions)\n",
    "for r in resolutions:\n",
    "    sc.tl.leiden(adata10, resolution=r, use_weights=True)\n",
    "    leiden_clusters.loc[:, r] = adata10.obs.leiden\n",
    "leiden_clusters.to_csv('mi_pbmc/dropseq_leiden_clusters_10_weighted.csv')"
   ]
  },
  {
   "cell_type": "code",
   "execution_count": 19,
   "metadata": {},
   "outputs": [],
   "source": [
    "leiden_clusters = pd.DataFrame(index=adata20.obs_names, columns=resolutions)\n",
    "for r in resolutions:\n",
    "    sc.tl.leiden(adata20, resolution=r, use_weights=True)\n",
    "    leiden_clusters.loc[:, r] = adata20.obs.leiden\n",
    "leiden_clusters.to_csv('mi_pbmc/dropseq_leiden_clusters_20_weighted.csv')"
   ]
  },
  {
   "cell_type": "code",
   "execution_count": 20,
   "metadata": {},
   "outputs": [],
   "source": [
    "leiden_clusters = pd.DataFrame(index=adata50.obs_names, columns=resolutions)\n",
    "for r in resolutions:\n",
    "    sc.tl.leiden(adata50, resolution=r, use_weights=True)\n",
    "    leiden_clusters.loc[:, r] = adata50.obs.leiden\n",
    "leiden_clusters.to_csv('mi_pbmc/dropseq_leiden_clusters_50_weighted.csv')"
   ]
  },
  {
   "cell_type": "code",
   "execution_count": 21,
   "metadata": {},
   "outputs": [],
   "source": [
    "leiden_clusters = pd.DataFrame(index=adata100.obs_names, columns=resolutions)\n",
    "for r in resolutions:\n",
    "    sc.tl.leiden(adata100, resolution=r, use_weights=True)\n",
    "    leiden_clusters.loc[:, r] = adata100.obs.leiden\n",
    "leiden_clusters.to_csv('mi_pbmc/dropseq_leiden_clusters_100_weighted.csv')"
   ]
  },
  {
   "cell_type": "code",
   "execution_count": 22,
   "metadata": {},
   "outputs": [],
   "source": [
    "unw_leiden_clusters5=pd.read_csv('mi_pbmc/dropseq_leiden_clusters_5_weighted.csv')\n",
    "unw_leiden_clusters10=pd.read_csv('mi_pbmc/dropseq_leiden_clusters_10_weighted.csv')\n",
    "unw_leiden_clusters20=pd.read_csv('mi_pbmc/dropseq_leiden_clusters_20_weighted.csv')\n",
    "unw_leiden_clusters50=pd.read_csv('mi_pbmc/dropseq_leiden_clusters_50_weighted.csv')\n",
    "unw_leiden_clusters100=pd.read_csv('mi_pbmc/dropseq_leiden_clusters_100_weighted.csv')"
   ]
  },
  {
   "cell_type": "markdown",
   "metadata": {},
   "source": [
    "# 2) nsbm\n",
    "### 2.1) nsbm unweighted"
   ]
  },
  {
   "cell_type": "code",
   "execution_count": null,
   "metadata": {},
   "outputs": [],
   "source": [
    "adata5=sc.read('mi_pbmc/adata_5.h5ad')\n",
    "adata10=sc.read('mi_pbmc/adata_10.h5ad')\n",
    "adata20=sc.read('mi_pbmc/adata_20.h5ad')\n",
    "adata50=sc.read('mi_pbmc/adata_50.h5ad')\n",
    "adata100=sc.read('mi_pbmc/adata_100.h5ad')"
   ]
  },
  {
   "cell_type": "code",
   "execution_count": null,
   "metadata": {},
   "outputs": [],
   "source": [
    "a=time.time()\n",
    "sc.tl.nsbm(adata5, collect_marginals=False)\n",
    "b=time.time()\n",
    "sc.tl.nsbm(adata10, collect_marginals=False)\n",
    "c=time.time()\n",
    "sc.tl.nsbm(adata20, collect_marginals=False)\n",
    "d=time.time()\n",
    "sc.tl.nsbm(adata50, collect_marginals=False)\n",
    "e=time.time()\n",
    "sc.tl.nsbm(adata100, collect_marginals=False)\n",
    "f=time.time()\n",
    "aa=b-a\n",
    "bb=c-b\n",
    "cc=d-c\n",
    "dd=e-d\n",
    "ee=f-e\n",
    "print(aa,bb,cc,dd,ee)\n",
    "adata5.write('mi_pbmc/adata_5_unweighted.h5ad')\n",
    "adata10.write('mi_pbmc/adata_10_unweighted.h5ad')\n",
    "adata20.write('mi_pbmc/adata_20_unweighted.h5ad')\n",
    "adata50.write('mi_pbmc/adata_50_unweighted.h5ad')\n",
    "adata100.write('mi_pbmc/adata_100_unweighted.h5ad')"
   ]
  },
  {
   "cell_type": "code",
   "execution_count": null,
   "metadata": {},
   "outputs": [],
   "source": [
    "unw_adata5=sc.read('mi_pbmc/adata_5_unweighted.h5ad')\n",
    "unw_adata10=sc.read('mi_pbmc/adata_10_unweighted.h5ad')\n",
    "unw_adata20=sc.read('mi_pbmc/adata_20_unweighted.h5ad')\n",
    "unw_adata50=sc.read('mi_pbmc/adata_50_unweighted.h5ad')\n",
    "unw_adata100=sc.read('mi_pbmc/adata_100_unweighted.h5ad')"
   ]
  },
  {
   "cell_type": "markdown",
   "metadata": {},
   "source": [
    "### 2.2) nsbm weighted"
   ]
  },
  {
   "cell_type": "code",
   "execution_count": null,
   "metadata": {},
   "outputs": [],
   "source": [
    "adata5=sc.read('mi_pbmc/adata_5.h5ad')\n",
    "adata10=sc.read('mi_pbmc/adata_10.h5ad')\n",
    "adata20=sc.read('mi_pbmc/adata_20.h5ad')\n",
    "adata50=sc.read('mi_pbmc/adata_50.h5ad')\n",
    "adata100=sc.read('mi_pbmc/adata_100.h5ad')"
   ]
  },
  {
   "cell_type": "code",
   "execution_count": null,
   "metadata": {},
   "outputs": [],
   "source": [
    "a=time.time()\n",
    "sc.tl.nsbm(adata5, collect_marginals=False, use_weights=True)\n",
    "b=time.time()\n",
    "sc.tl.nsbm(adata10, collect_marginals=False, use_weights=True)\n",
    "c=time.time()\n",
    "sc.tl.nsbm(adata20, collect_marginals=False, use_weights=True)\n",
    "d=time.time()\n",
    "sc.tl.nsbm(adata50, collect_marginals=False, use_weights=True)\n",
    "e=time.time()\n",
    "sc.tl.nsbm(adata100, collect_marginals=False, use_weights=True)\n",
    "f=time.time()\n",
    "aa=b-a\n",
    "bb=c-b\n",
    "cc=d-c\n",
    "dd=e-d\n",
    "ee=f-e\n",
    "print(aa,bb,cc,dd,ee)\n",
    "adata5.write('mi_pbmc/adata_5_weighted.h5ad')\n",
    "adata10.write('mi_pbmc/adata_10_weighted.h5ad')\n",
    "adata20.write('mi_pbmc/adata_20_weighted.h5ad')\n",
    "adata50.write('mi_pbmc/adata_50_weighted.h5ad')\n",
    "adata100.write('mi_pbmc/adata_100_weighted.h5ad')"
   ]
  },
  {
   "cell_type": "code",
   "execution_count": null,
   "metadata": {},
   "outputs": [],
   "source": [
    "unw_adata5=sc.read('mi_pbmc/adata_5_weighted.h5ad')\n",
    "unw_adata10=sc.read('mi_pbmc/adata_10_weighted.h5ad')\n",
    "unw_adata20=sc.read('mi_pbmc/adata_20_weighted.h5ad')\n",
    "unw_adata50=sc.read('mi_pbmc/adata_50_weighted.h5ad')\n",
    "unw_adata100=sc.read('mi_pbmc/adata_100_weighted.h5ad')"
   ]
  },
  {
   "cell_type": "markdown",
   "metadata": {},
   "source": [
    "# 3) MI comparison\n",
    "### 3.1) nsbm unweighted vs leiden unweighted"
   ]
  },
  {
   "cell_type": "markdown",
   "metadata": {},
   "source": [
    "### 3.2) nsbm weighted vs leiden weighted"
   ]
  },
  {
   "cell_type": "markdown",
   "metadata": {},
   "source": [
    "### 3.3) nsbm weighted vs leiden unweighted"
   ]
  },
  {
   "cell_type": "markdown",
   "metadata": {},
   "source": [
    "### 3.4) nsbm unweighted vs leiden weighted"
   ]
  },
  {
   "cell_type": "code",
   "execution_count": null,
   "metadata": {},
   "outputs": [],
   "source": []
  }
 ],
 "metadata": {
  "kernelspec": {
   "display_name": "Python 3",
   "language": "python",
   "name": "python3"
  },
  "language_info": {
   "codemirror_mode": {
    "name": "ipython",
    "version": 3
   },
   "file_extension": ".py",
   "mimetype": "text/x-python",
   "name": "python",
   "nbconvert_exporter": "python",
   "pygments_lexer": "ipython3",
   "version": "3.7.4"
  }
 },
 "nbformat": 4,
 "nbformat_minor": 2
}
