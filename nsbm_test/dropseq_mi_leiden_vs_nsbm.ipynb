{
 "cells": [
  {
   "cell_type": "code",
   "execution_count": 1,
   "metadata": {},
   "outputs": [
    {
     "name": "stdout",
     "output_type": "stream",
     "text": [
      "Using matplotlib backend: nbAgg\n",
      "Populating the interactive namespace from numpy and matplotlib\n"
     ]
    }
   ],
   "source": [
    "import scanpy as sc\n",
    "import pandas as pd\n",
    "import pickle\n",
    "import time\n",
    "import anndata\n",
    "import sklearn.metrics\n",
    "%matplotlib notebook\n",
    "%pylab"
   ]
  },
  {
   "cell_type": "code",
   "execution_count": 5,
   "metadata": {},
   "outputs": [
    {
     "name": "stderr",
     "output_type": "stream",
     "text": [
      "Trying to set attribute `.obs` of view, making a copy.\n"
     ]
    },
    {
     "name": "stdout",
     "output_type": "stream",
     "text": [
      "WARNING: genes are not in var_names and ignored: ['ENSG00000278787', 'ENSG00000288475']\n"
     ]
    },
    {
     "name": "stderr",
     "output_type": "stream",
     "text": [
      "Trying to set attribute `.obs` of view, making a copy.\n",
      "... storing 'phase' as categorical\n"
     ]
    }
   ],
   "source": [
    "df = pd.read_table(\"matrix_mixology/sc_dropseq.count.csv.gz\", compression=\"gzip\", sep=\",\")\n",
    "nomi=pd.read_csv('regressed_genes/nomi_geni.txt.gz', compression= 'gzip')\n",
    "cell_cycle_genes = [x.strip() for x in open('regressed_genes/regev_lab_cell_cycle_genes.txt')]\n",
    "s_genes = cell_cycle_genes[:43]\n",
    "g2m_genes = cell_cycle_genes[43:]\n",
    "ensg_s_genes =[nomi.loc[idx, \"Gene stable ID\"] for idx in nomi.index if nomi.loc[idx, \"Gene name\"] in s_genes]\n",
    "ensg_g2m_genes =[nomi.loc[idx, \"Gene stable ID\"] for idx in nomi.index if nomi.loc[idx, \"Gene name\"] in g2m_genes]\n",
    "adata = anndata.AnnData(df.T)#.values.T, obs=df.columns, var=df.index)\n",
    "mito_genes = [nomi.loc[idx, \"Gene stable ID\"] for idx in nomi.index if nomi.loc[idx, \"Gene name\"].startswith(\"MT-\") and nomi.loc[idx, \"Gene stable ID\"] in adata.var_names]\n",
    " \n",
    "adata.obs['percent_mito'] = np.sum(adata[:, mito_genes].X, axis=1) / np.sum(adata.X, axis=1) \n",
    "adata.obs['n_counts'] = adata.X.sum(axis=1)\n",
    "np.sum(adata[:, mito_genes].X, axis=1)                                            \n",
    "                                            \n",
    "\n",
    "adata = adata[adata.obs['percent_mito'] < 0.05, :]\n",
    "sc.pp.normalize_per_cell(adata, counts_per_cell_after=1e4)\n",
    "sc.pp.log1p(adata)\n",
    "adata.raw = adata\n",
    "sc.tl.score_genes_cell_cycle(adata, s_genes=ensg_s_genes, g2m_genes=ensg_g2m_genes)\n",
    "\n",
    "sc.pp.highly_variable_genes(adata, min_mean=0.05, max_mean=3, min_disp=0.5)\n",
    "adata = adata[:, adata.var['highly_variable']]\n",
    "sc.pp.regress_out(adata, ['S_score', 'G2M_score','n_counts', 'percent_mito'])\n",
    "sc.pp.scale(adata, max_value=10)\n",
    "sc.tl.pca(adata, svd_solver='arpack')\n",
    "adata.write('mi_dropseq/adata_base.h5ad')"
   ]
  },
  {
   "cell_type": "code",
   "execution_count": 6,
   "metadata": {},
   "outputs": [],
   "source": [
    "adata=sc.read('mi_dropseq/adata_base.h5ad')"
   ]
  },
  {
   "cell_type": "code",
   "execution_count": 7,
   "metadata": {},
   "outputs": [],
   "source": [
    "nei=[5,10,20,50,100]\n",
    "adatone=[]\n",
    "for x in nei:\n",
    "    adata=sc.read('mi_dropseq/adata_base.h5ad')\n",
    "    sc.pp.neighbors(adata, n_neighbors=x, n_pcs=40)\n",
    "    adatone.append(adata)\n",
    "adatone[0].write('mi_dropseq/adata_5.h5ad')\n",
    "adatone[1].write('mi_dropseq/adata_10.h5ad')\n",
    "adatone[2].write('mi_dropseq/adata_20.h5ad')\n",
    "adatone[3].write('mi_dropseq/adata_50.h5ad')\n",
    "adatone[4].write('mi_dropseq/adata_100.h5ad')"
   ]
  },
  {
   "cell_type": "code",
   "execution_count": 8,
   "metadata": {},
   "outputs": [],
   "source": [
    "adata5=sc.read('mi_dropseq/adata_5.h5ad')\n",
    "adata10=sc.read('mi_dropseq/adata_10.h5ad')\n",
    "adata20=sc.read('mi_dropseq/adata_20.h5ad')\n",
    "adata50=sc.read('mi_dropseq/adata_50.h5ad')\n",
    "adata100=sc.read('mi_dropseq/adata_100.h5ad')"
   ]
  },
  {
   "cell_type": "code",
   "execution_count": 9,
   "metadata": {},
   "outputs": [],
   "source": [
    "sc.tl.umap(adata5)\n",
    "sc.tl.umap(adata10) \n",
    "sc.tl.umap(adata20) \n",
    "sc.tl.umap(adata50)\n",
    "sc.tl.umap(adata100) "
   ]
  },
  {
   "cell_type": "markdown",
   "metadata": {},
   "source": [
    "# 1) leiden in range\n",
    "### 1.1) leiden unweighted"
   ]
  },
  {
   "cell_type": "code",
   "execution_count": 10,
   "metadata": {},
   "outputs": [],
   "source": [
    "resolutions = np.arange(0, 1, 0.005)"
   ]
  },
  {
   "cell_type": "code",
   "execution_count": 11,
   "metadata": {},
   "outputs": [],
   "source": [
    "leiden_clusters = pd.DataFrame(index=adata5.obs_names, columns=resolutions)\n",
    "for r in resolutions:\n",
    "    sc.tl.leiden(adata5, resolution=r, use_weights=False)\n",
    "    leiden_clusters.loc[:, r] = adata5.obs.leiden\n",
    "leiden_clusters.to_csv('mi_dropseq/dropseq_leiden_clusters_5_unweighted.csv')"
   ]
  },
  {
   "cell_type": "code",
   "execution_count": 12,
   "metadata": {},
   "outputs": [],
   "source": [
    "leiden_clusters = pd.DataFrame(index=adata10.obs_names, columns=resolutions)\n",
    "for r in resolutions:\n",
    "    sc.tl.leiden(adata10, resolution=r, use_weights=False)\n",
    "    leiden_clusters.loc[:, r] = adata10.obs.leiden\n",
    "leiden_clusters.to_csv('mi_dropseq/dropseq_leiden_clusters_10_unweighted.csv')"
   ]
  },
  {
   "cell_type": "code",
   "execution_count": 13,
   "metadata": {},
   "outputs": [],
   "source": [
    "leiden_clusters = pd.DataFrame(index=adata20.obs_names, columns=resolutions)\n",
    "for r in resolutions:\n",
    "    sc.tl.leiden(adata20, resolution=r, use_weights=False)\n",
    "    leiden_clusters.loc[:, r] = adata20.obs.leiden\n",
    "leiden_clusters.to_csv('mi_dropseq/dropseq_leiden_clusters_20_unweighted.csv')"
   ]
  },
  {
   "cell_type": "code",
   "execution_count": 14,
   "metadata": {},
   "outputs": [],
   "source": [
    "leiden_clusters = pd.DataFrame(index=adata50.obs_names, columns=resolutions)\n",
    "for r in resolutions:\n",
    "    sc.tl.leiden(adata50, resolution=r, use_weights=False)\n",
    "    leiden_clusters.loc[:, r] = adata50.obs.leiden\n",
    "leiden_clusters.to_csv('mi_dropseq/dropseq_leiden_clusters_50_unweighted.csv')"
   ]
  },
  {
   "cell_type": "code",
   "execution_count": 15,
   "metadata": {},
   "outputs": [],
   "source": [
    "leiden_clusters = pd.DataFrame(index=adata100.obs_names, columns=resolutions)\n",
    "for r in resolutions:\n",
    "    sc.tl.leiden(adata100, resolution=r, use_weights=False)\n",
    "    leiden_clusters.loc[:, r] = adata100.obs.leiden\n",
    "leiden_clusters.to_csv('mi_dropseq/dropseq_leiden_clusters_100_unweighted.csv')"
   ]
  },
  {
   "cell_type": "code",
   "execution_count": 16,
   "metadata": {},
   "outputs": [],
   "source": [
    "unw_leiden_clusters5=pd.read_csv('mi_dropseq/dropseq_leiden_clusters_5_unweighted.csv')\n",
    "unw_leiden_clusters10=pd.read_csv('mi_dropseq/dropseq_leiden_clusters_10_unweighted.csv')\n",
    "unw_leiden_clusters20=pd.read_csv('mi_dropseq/dropseq_leiden_clusters_20_unweighted.csv')\n",
    "unw_leiden_clusters50=pd.read_csv('mi_dropseq/dropseq_leiden_clusters_50_unweighted.csv')\n",
    "unw_leiden_clusters100=pd.read_csv('mi_dropseq/dropseq_leiden_clusters_100_unweighted.csv')"
   ]
  },
  {
   "cell_type": "markdown",
   "metadata": {},
   "source": [
    "### 1.2) leiden weighted"
   ]
  },
  {
   "cell_type": "code",
   "execution_count": 30,
   "metadata": {},
   "outputs": [],
   "source": [
    "adata5=sc.read('mi_dropseq/adata_5.h5ad')\n",
    "adata10=sc.read('mi_dropseq/adata_10.h5ad')\n",
    "adata20=sc.read('mi_dropseq/adata_20.h5ad')\n",
    "adata50=sc.read('mi_dropseq/adata_50.h5ad')\n",
    "adata100=sc.read('mi_dropseq/adata_100.h5ad')"
   ]
  },
  {
   "cell_type": "code",
   "execution_count": 31,
   "metadata": {},
   "outputs": [],
   "source": [
    "leiden_clusters = pd.DataFrame(index=adata5.obs_names, columns=resolutions)\n",
    "for r in resolutions:\n",
    "    sc.tl.leiden(adata5, resolution=r, use_weights=True)\n",
    "    leiden_clusters.loc[:, r] = adata5.obs.leiden\n",
    "leiden_clusters.to_csv('mi_dropseq/dropseq_leiden_clusters_5_weighted.csv')"
   ]
  },
  {
   "cell_type": "code",
   "execution_count": 32,
   "metadata": {},
   "outputs": [],
   "source": [
    "leiden_clusters = pd.DataFrame(index=adata10.obs_names, columns=resolutions)\n",
    "for r in resolutions:\n",
    "    sc.tl.leiden(adata10, resolution=r, use_weights=True)\n",
    "    leiden_clusters.loc[:, r] = adata10.obs.leiden\n",
    "leiden_clusters.to_csv('mi_dropseq/dropseq_leiden_clusters_10_weighted.csv')"
   ]
  },
  {
   "cell_type": "code",
   "execution_count": 33,
   "metadata": {},
   "outputs": [],
   "source": [
    "leiden_clusters = pd.DataFrame(index=adata20.obs_names, columns=resolutions)\n",
    "for r in resolutions:\n",
    "    sc.tl.leiden(adata20, resolution=r, use_weights=True)\n",
    "    leiden_clusters.loc[:, r] = adata20.obs.leiden\n",
    "leiden_clusters.to_csv('mi_dropseq/dropseq_leiden_clusters_20_weighted.csv')"
   ]
  },
  {
   "cell_type": "code",
   "execution_count": 34,
   "metadata": {},
   "outputs": [],
   "source": [
    "leiden_clusters = pd.DataFrame(index=adata50.obs_names, columns=resolutions)\n",
    "for r in resolutions:\n",
    "    sc.tl.leiden(adata50, resolution=r, use_weights=True)\n",
    "    leiden_clusters.loc[:, r] = adata50.obs.leiden\n",
    "leiden_clusters.to_csv('mi_dropseq/dropseq_leiden_clusters_50_weighted.csv')"
   ]
  },
  {
   "cell_type": "code",
   "execution_count": 35,
   "metadata": {},
   "outputs": [],
   "source": [
    "leiden_clusters = pd.DataFrame(index=adata100.obs_names, columns=resolutions)\n",
    "for r in resolutions:\n",
    "    sc.tl.leiden(adata100, resolution=r, use_weights=True)\n",
    "    leiden_clusters.loc[:, r] = adata100.obs.leiden\n",
    "leiden_clusters.to_csv('mi_dropseq/dropseq_leiden_clusters_100_weighted.csv')"
   ]
  },
  {
   "cell_type": "code",
   "execution_count": 36,
   "metadata": {},
   "outputs": [],
   "source": [
    "w_leiden_clusters5=pd.read_csv('mi_dropseq/dropseq_leiden_clusters_5_weighted.csv')\n",
    "w_leiden_clusters10=pd.read_csv('mi_dropseq/dropseq_leiden_clusters_10_weighted.csv')\n",
    "w_leiden_clusters20=pd.read_csv('mi_dropseq/dropseq_leiden_clusters_20_weighted.csv')\n",
    "w_leiden_clusters50=pd.read_csv('mi_dropseq/dropseq_leiden_clusters_50_weighted.csv')\n",
    "w_leiden_clusters100=pd.read_csv('mi_dropseq/dropseq_leiden_clusters_100_weighted.csv')"
   ]
  },
  {
   "cell_type": "markdown",
   "metadata": {},
   "source": [
    "# 2) nsbm\n",
    "### 2.1) nsbm unweighted"
   ]
  },
  {
   "cell_type": "code",
   "execution_count": 24,
   "metadata": {},
   "outputs": [],
   "source": [
    "adata5=sc.read('mi_dropseq/adata_5.h5ad')\n",
    "adata10=sc.read('mi_dropseq/adata_10.h5ad')\n",
    "adata20=sc.read('mi_dropseq/adata_20.h5ad')\n",
    "adata50=sc.read('mi_dropseq/adata_50.h5ad')\n",
    "adata100=sc.read('mi_dropseq/adata_100.h5ad')"
   ]
  },
  {
   "cell_type": "code",
   "execution_count": 25,
   "metadata": {},
   "outputs": [
    {
     "name": "stderr",
     "output_type": "stream",
     "text": [
      "/usr/lib/python3/dist-packages/graph_tool/draw/cairo_draw.py:39: RuntimeWarning: Error importing cairo. Graph drawing will not work.\n",
      "  warnings.warn(msg, RuntimeWarning)\n",
      "/usr/lib/python3/dist-packages/graph_tool/draw/cairo_draw.py:39: RuntimeWarning: Error importing cairo. Graph drawing will not work.\n",
      "  warnings.warn(msg, RuntimeWarning)\n",
      "/usr/lib/python3/dist-packages/graph_tool/draw/cairo_draw.py:39: RuntimeWarning: Error importing cairo. Graph drawing will not work.\n",
      "  warnings.warn(msg, RuntimeWarning)\n",
      "/usr/lib/python3/dist-packages/graph_tool/all.py:40: RuntimeWarning: Error importing draw module, proceeding nevertheless: /usr/lib/python3/dist-packages/cairo/_cairo.cpython-37m-x86_64-linux-gnu.so: undefined symbol: cairo_tee_surface_index\n",
      "  warnings.warn(msg, RuntimeWarning)\n"
     ]
    },
    {
     "name": "stdout",
     "output_type": "stream",
     "text": [
      "39.080400466918945 58.311100482940674 67.54905462265015 93.81246185302734 52.082510471343994\n"
     ]
    }
   ],
   "source": [
    "a=time.time()\n",
    "sc.tl.nsbm(adata5, collect_marginals=False)\n",
    "b=time.time()\n",
    "sc.tl.nsbm(adata10, collect_marginals=False)\n",
    "c=time.time()\n",
    "sc.tl.nsbm(adata20, collect_marginals=False)\n",
    "d=time.time()\n",
    "sc.tl.nsbm(adata50, collect_marginals=False)\n",
    "e=time.time()\n",
    "sc.tl.nsbm(adata100, collect_marginals=False)\n",
    "f=time.time()\n",
    "aa=b-a\n",
    "bb=c-b\n",
    "cc=d-c\n",
    "dd=e-d\n",
    "ee=f-e\n",
    "print(aa,bb,cc,dd,ee)\n",
    "adata5.write('mi_dropseq/adata_5_unweighted.h5ad')\n",
    "adata10.write('mi_dropseq/adata_10_unweighted.h5ad')\n",
    "adata20.write('mi_dropseq/adata_20_unweighted.h5ad')\n",
    "adata50.write('mi_dropseq/adata_50_unweighted.h5ad')\n",
    "adata100.write('mi_dropseq/adata_100_unweighted.h5ad')"
   ]
  },
  {
   "cell_type": "code",
   "execution_count": 26,
   "metadata": {},
   "outputs": [],
   "source": [
    "unw_adata5=sc.read('mi_dropseq/adata_5_unweighted.h5ad')\n",
    "unw_adata10=sc.read('mi_dropseq/adata_10_unweighted.h5ad')\n",
    "unw_adata20=sc.read('mi_dropseq/adata_20_unweighted.h5ad')\n",
    "unw_adata50=sc.read('mi_dropseq/adata_50_unweighted.h5ad')\n",
    "unw_adata100=sc.read('mi_dropseq/adata_100_unweighted.h5ad')"
   ]
  },
  {
   "cell_type": "markdown",
   "metadata": {},
   "source": [
    "### 2.2) nsbm weighted"
   ]
  },
  {
   "cell_type": "code",
   "execution_count": 37,
   "metadata": {},
   "outputs": [],
   "source": [
    "adata5=sc.read('mi_dropseq/adata_5.h5ad')\n",
    "adata10=sc.read('mi_dropseq/adata_10.h5ad')\n",
    "adata20=sc.read('mi_dropseq/adata_20.h5ad')\n",
    "adata50=sc.read('mi_dropseq/adata_50.h5ad')\n",
    "adata100=sc.read('mi_dropseq/adata_100.h5ad')"
   ]
  },
  {
   "cell_type": "code",
   "execution_count": 38,
   "metadata": {},
   "outputs": [
    {
     "name": "stdout",
     "output_type": "stream",
     "text": [
      "144.91945123672485 142.88102793693542 139.39214324951172 226.63133311271667 380.62912225723267\n"
     ]
    }
   ],
   "source": [
    "a=time.time()\n",
    "sc.tl.nsbm(adata5, collect_marginals=False, use_weights=True)\n",
    "b=time.time()\n",
    "sc.tl.nsbm(adata10, collect_marginals=False, use_weights=True)\n",
    "c=time.time()\n",
    "sc.tl.nsbm(adata20, collect_marginals=False, use_weights=True)\n",
    "d=time.time()\n",
    "sc.tl.nsbm(adata50, collect_marginals=False, use_weights=True)\n",
    "e=time.time()\n",
    "sc.tl.nsbm(adata100, collect_marginals=False, use_weights=True)\n",
    "f=time.time()\n",
    "aa=b-a\n",
    "bb=c-b\n",
    "cc=d-c\n",
    "dd=e-d\n",
    "ee=f-e\n",
    "print(aa,bb,cc,dd,ee)\n",
    "adata5.write('mi_dropseq/adata_5_weighted.h5ad')\n",
    "adata10.write('mi_dropseq/adata_10_weighted.h5ad')\n",
    "adata20.write('mi_dropseq/adata_20_weighted.h5ad')\n",
    "adata50.write('mi_dropseq/adata_50_weighted.h5ad')\n",
    "adata100.write('mi_dropseq/adata_100_weighted.h5ad')"
   ]
  },
  {
   "cell_type": "code",
   "execution_count": 39,
   "metadata": {},
   "outputs": [],
   "source": [
    "unw_adata5=sc.read('mi_10x/adata_5_weighted.h5ad')\n",
    "unw_adata10=sc.read('mi_10x/adata_10_weighted.h5ad')\n",
    "unw_adata20=sc.read('mi_10x/adata_20_weighted.h5ad')\n",
    "unw_adata50=sc.read('mi_10x/adata_50_weighted.h5ad')\n",
    "unw_adata100=sc.read('mi_10x/adata_100_weighted.h5ad')"
   ]
  },
  {
   "cell_type": "markdown",
   "metadata": {},
   "source": [
    "# 3) MI comparison\n",
    "### 3.1) nsbm unweighted vs leiden unweighted"
   ]
  },
  {
   "cell_type": "markdown",
   "metadata": {},
   "source": [
    "### 3.2) nsbm weighted vs leiden weighted"
   ]
  },
  {
   "cell_type": "markdown",
   "metadata": {},
   "source": [
    "### 3.3) nsbm weighted vs leiden unweighted"
   ]
  },
  {
   "cell_type": "markdown",
   "metadata": {},
   "source": [
    "### 3.4) nsbm unweighted vs leiden weighted"
   ]
  },
  {
   "cell_type": "code",
   "execution_count": null,
   "metadata": {},
   "outputs": [],
   "source": []
  }
 ],
 "metadata": {
  "kernelspec": {
   "display_name": "Python 3",
   "language": "python",
   "name": "python3"
  },
  "language_info": {
   "codemirror_mode": {
    "name": "ipython",
    "version": 3
   },
   "file_extension": ".py",
   "mimetype": "text/x-python",
   "name": "python",
   "nbconvert_exporter": "python",
   "pygments_lexer": "ipython3",
   "version": "3.7.4"
  }
 },
 "nbformat": 4,
 "nbformat_minor": 2
}
